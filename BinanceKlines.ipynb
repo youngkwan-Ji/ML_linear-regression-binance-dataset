{
 "cells": [
  {
   "cell_type": "code",
   "execution_count": null,
   "outputs": [],
   "source": [
    "import pandas as pd\n",
    "klines = pd.read_csv('resource/dataset/binance/klines-BTCUSDT-1m_0413.csv')\n",
    "klines\n",
    "\n",
    "y_train = klines['close']\n",
    "y_train"
   ],
   "metadata": {
    "collapsed": false,
    "pycharm": {
     "name": "#%%\n"
    }
   }
  },
  {
   "cell_type": "code",
   "execution_count": 5,
   "outputs": [
    {
     "data": {
      "text/plain": "Index(['openTime', 'open', 'high', 'low', 'close', 'volume', 'closeTime',\n       'quoteAssetVolume', 'numberOfTrades', 'takerBuyBaseAssetVolume',\n       'takerBuyQuoteAssetVolume', 'ignore'],\n      dtype='object')"
     },
     "execution_count": 5,
     "metadata": {},
     "output_type": "execute_result"
    }
   ],
   "source": [
    "klines.columns"
   ],
   "metadata": {
    "collapsed": false,
    "pycharm": {
     "name": "#%%\n"
    }
   }
  },
  {
   "cell_type": "code",
   "execution_count": 6,
   "outputs": [
    {
     "data": {
      "text/plain": "         open      high       low\n0    40244.02  40244.02  40211.82\n1    40212.25  40222.35  40205.06\n2    40222.35  40225.44  40222.34\n3    40225.44  40245.00  40225.43\n4    40244.99  40245.00  40216.74\n..        ...       ...       ...\n995  39907.32  39978.62  39905.40\n996  39975.71  40057.07  39930.00\n997  40056.80  40133.26  40031.11\n998  40090.00  40142.91  40073.80\n999  40135.38  40135.38  40118.56\n\n[1000 rows x 3 columns]",
      "text/html": "<div>\n<style scoped>\n    .dataframe tbody tr th:only-of-type {\n        vertical-align: middle;\n    }\n\n    .dataframe tbody tr th {\n        vertical-align: top;\n    }\n\n    .dataframe thead th {\n        text-align: right;\n    }\n</style>\n<table border=\"1\" class=\"dataframe\">\n  <thead>\n    <tr style=\"text-align: right;\">\n      <th></th>\n      <th>open</th>\n      <th>high</th>\n      <th>low</th>\n    </tr>\n  </thead>\n  <tbody>\n    <tr>\n      <th>0</th>\n      <td>40244.02</td>\n      <td>40244.02</td>\n      <td>40211.82</td>\n    </tr>\n    <tr>\n      <th>1</th>\n      <td>40212.25</td>\n      <td>40222.35</td>\n      <td>40205.06</td>\n    </tr>\n    <tr>\n      <th>2</th>\n      <td>40222.35</td>\n      <td>40225.44</td>\n      <td>40222.34</td>\n    </tr>\n    <tr>\n      <th>3</th>\n      <td>40225.44</td>\n      <td>40245.00</td>\n      <td>40225.43</td>\n    </tr>\n    <tr>\n      <th>4</th>\n      <td>40244.99</td>\n      <td>40245.00</td>\n      <td>40216.74</td>\n    </tr>\n    <tr>\n      <th>...</th>\n      <td>...</td>\n      <td>...</td>\n      <td>...</td>\n    </tr>\n    <tr>\n      <th>995</th>\n      <td>39907.32</td>\n      <td>39978.62</td>\n      <td>39905.40</td>\n    </tr>\n    <tr>\n      <th>996</th>\n      <td>39975.71</td>\n      <td>40057.07</td>\n      <td>39930.00</td>\n    </tr>\n    <tr>\n      <th>997</th>\n      <td>40056.80</td>\n      <td>40133.26</td>\n      <td>40031.11</td>\n    </tr>\n    <tr>\n      <th>998</th>\n      <td>40090.00</td>\n      <td>40142.91</td>\n      <td>40073.80</td>\n    </tr>\n    <tr>\n      <th>999</th>\n      <td>40135.38</td>\n      <td>40135.38</td>\n      <td>40118.56</td>\n    </tr>\n  </tbody>\n</table>\n<p>1000 rows × 3 columns</p>\n</div>"
     },
     "execution_count": 6,
     "metadata": {},
     "output_type": "execute_result"
    }
   ],
   "source": [
    "del klines['openTime']\n",
    "del klines['closeTime']\n",
    "del klines['close']\n",
    "del klines['volume']\n",
    "del klines['quoteAssetVolume']\n",
    "del klines['numberOfTrades']\n",
    "del klines['takerBuyQuoteAssetVolume']\n",
    "del klines['takerBuyBaseAssetVolume']\n",
    "del klines['ignore']\n",
    "klines"
   ],
   "metadata": {
    "collapsed": false,
    "pycharm": {
     "name": "#%%\n"
    }
   }
  },
  {
   "cell_type": "code",
   "execution_count": 42,
   "outputs": [
    {
     "data": {
      "text/plain": "array([[40244.02, 40244.02, 40211.82],\n       [40212.25, 40222.35, 40205.06],\n       [40222.35, 40225.44, 40222.34],\n       ...,\n       [40056.8 , 40133.26, 40031.11],\n       [40090.  , 40142.91, 40073.8 ],\n       [40135.38, 40135.38, 40118.56]])"
     },
     "execution_count": 42,
     "metadata": {},
     "output_type": "execute_result"
    }
   ],
   "source": [
    "x_train = klines.to_numpy()\n",
    "x_train"
   ],
   "metadata": {
    "collapsed": false,
    "pycharm": {
     "name": "#%%\n"
    }
   }
  },
  {
   "cell_type": "code",
   "execution_count": 41,
   "outputs": [
    {
     "ename": "AttributeError",
     "evalue": "'numpy.ndarray' object has no attribute 'colums'",
     "output_type": "error",
     "traceback": [
      "\u001B[0;31m---------------------------------------------------------------------------\u001B[0m",
      "\u001B[0;31mAttributeError\u001B[0m                            Traceback (most recent call last)",
      "Input \u001B[0;32mIn [41]\u001B[0m, in \u001B[0;36m<cell line: 1>\u001B[0;34m()\u001B[0m\n\u001B[0;32m----> 1\u001B[0m \u001B[43mx_train\u001B[49m\u001B[38;5;241;43m.\u001B[39;49m\u001B[43mcolums\u001B[49m\n",
      "\u001B[0;31mAttributeError\u001B[0m: 'numpy.ndarray' object has no attribute 'colums'"
     ]
    }
   ],
   "source": [
    "x_train.colums"
   ],
   "metadata": {
    "collapsed": false,
    "pycharm": {
     "name": "#%%\n"
    }
   }
  },
  {
   "cell_type": "code",
   "execution_count": 40,
   "outputs": [
    {
     "name": "stdout",
     "output_type": "stream",
     "text": [
      "Epoch 1/30\n",
      "1000/1000 [==============================] - 1s 712us/step - loss: nan - accuracy: 0.0000e+00\n",
      "Epoch 2/30\n",
      "1000/1000 [==============================] - 1s 717us/step - loss: nan - accuracy: 0.0000e+00\n",
      "Epoch 3/30\n",
      "1000/1000 [==============================] - 1s 719us/step - loss: nan - accuracy: 0.0000e+00\n",
      "Epoch 4/30\n",
      "1000/1000 [==============================] - 1s 712us/step - loss: nan - accuracy: 0.0000e+00\n",
      "Epoch 5/30\n",
      "1000/1000 [==============================] - 1s 716us/step - loss: nan - accuracy: 0.0000e+00\n",
      "Epoch 6/30\n",
      "1000/1000 [==============================] - 1s 714us/step - loss: nan - accuracy: 0.0000e+00\n",
      "Epoch 7/30\n",
      "1000/1000 [==============================] - 1s 714us/step - loss: nan - accuracy: 0.0000e+00\n",
      "Epoch 8/30\n",
      "1000/1000 [==============================] - 1s 714us/step - loss: nan - accuracy: 0.0000e+00\n",
      "Epoch 9/30\n",
      "1000/1000 [==============================] - 1s 716us/step - loss: nan - accuracy: 0.0000e+00\n",
      "Epoch 10/30\n",
      "1000/1000 [==============================] - 1s 718us/step - loss: nan - accuracy: 0.0000e+00\n",
      "Epoch 11/30\n",
      "1000/1000 [==============================] - 1s 712us/step - loss: nan - accuracy: 0.0000e+00\n",
      "Epoch 12/30\n",
      "1000/1000 [==============================] - 1s 729us/step - loss: nan - accuracy: 0.0000e+00\n",
      "Epoch 13/30\n",
      "1000/1000 [==============================] - 1s 746us/step - loss: nan - accuracy: 0.0000e+00\n",
      "Epoch 14/30\n",
      "1000/1000 [==============================] - 1s 735us/step - loss: nan - accuracy: 0.0000e+00\n",
      "Epoch 15/30\n",
      "1000/1000 [==============================] - 1s 745us/step - loss: nan - accuracy: 0.0000e+00\n",
      "Epoch 16/30\n",
      "1000/1000 [==============================] - 1s 740us/step - loss: nan - accuracy: 0.0000e+00\n",
      "Epoch 17/30\n",
      "1000/1000 [==============================] - 1s 740us/step - loss: nan - accuracy: 0.0000e+00\n",
      "Epoch 18/30\n",
      "1000/1000 [==============================] - 1s 749us/step - loss: nan - accuracy: 0.0000e+00\n",
      "Epoch 19/30\n",
      "1000/1000 [==============================] - 1s 752us/step - loss: nan - accuracy: 0.0000e+00\n",
      "Epoch 20/30\n",
      "1000/1000 [==============================] - 1s 758us/step - loss: nan - accuracy: 0.0000e+00\n",
      "Epoch 21/30\n",
      "1000/1000 [==============================] - 1s 764us/step - loss: nan - accuracy: 0.0000e+00\n",
      "Epoch 22/30\n",
      "1000/1000 [==============================] - 1s 792us/step - loss: nan - accuracy: 0.0000e+00\n",
      "Epoch 23/30\n",
      "1000/1000 [==============================] - 1s 794us/step - loss: nan - accuracy: 0.0000e+00\n",
      "Epoch 24/30\n",
      "1000/1000 [==============================] - 1s 802us/step - loss: nan - accuracy: 0.0000e+00\n",
      "Epoch 25/30\n",
      "1000/1000 [==============================] - 1s 796us/step - loss: nan - accuracy: 0.0000e+00\n",
      "Epoch 26/30\n",
      "1000/1000 [==============================] - 1s 793us/step - loss: nan - accuracy: 0.0000e+00\n",
      "Epoch 27/30\n",
      "1000/1000 [==============================] - 1s 774us/step - loss: nan - accuracy: 0.0000e+00\n",
      "Epoch 28/30\n",
      "1000/1000 [==============================] - 1s 777us/step - loss: nan - accuracy: 0.0000e+00\n",
      "Epoch 29/30\n",
      "1000/1000 [==============================] - 1s 777us/step - loss: nan - accuracy: 0.0000e+00\n",
      "Epoch 30/30\n",
      "1000/1000 [==============================] - 1s 776us/step - loss: nan - accuracy: 0.0000e+00\n"
     ]
    }
   ],
   "source": [
    "import tensorflow as tf\n",
    "\n",
    "w_1 = tf.Variable(tf.random.normal([1]))\n",
    "w_2 = tf.Variable(tf.random.normal([1]))\n",
    "w_3 = tf.Variable(tf.random.normal([1]))\n",
    "b = tf.Variable(tf.random.normal([1]))\n",
    "\n",
    "model = tf.keras.models.Sequential()\n",
    "model.add(tf.keras.layers.Dense(1, input_dim= 3, activation='linear'))\n",
    "\n",
    "# hypothesis = (x_train['open']*w_1)+(x_train['high']*w_2)+(x_train['low']*w_3)+b\n",
    "# cost = tf.reduce_mean(tf.square(hypothesis - y_train))\n",
    "\n",
    "sgd = tf.keras.optimizers.SGD(learning_rate=0.01)\n",
    "model.compile(loss='mse',optimizer=sgd,metrics=['accuracy'])\n",
    "\n",
    "history = model.fit(x_train,y_train,epochs=30,verbose=1,batch_size=1, shuffle=False)"
   ],
   "metadata": {
    "collapsed": false,
    "pycharm": {
     "name": "#%%\n"
    }
   }
  },
  {
   "cell_type": "code",
   "execution_count": 38,
   "outputs": [
    {
     "data": {
      "text/plain": "array([[nan]], dtype=float32)"
     },
     "execution_count": 38,
     "metadata": {},
     "output_type": "execute_result"
    }
   ],
   "source": [
    "testM.predict([[40244.02,40244.02,40211.82,17.58826,707423.2,679, 8.65981,348281.1]])"
   ],
   "metadata": {
    "collapsed": false,
    "pycharm": {
     "name": "#%%\n"
    }
   }
  }
 ],
 "metadata": {
  "kernelspec": {
   "name": "python3",
   "language": "python",
   "display_name": "Python 3 (ipykernel)"
  },
  "language_info": {
   "codemirror_mode": {
    "name": "ipython",
    "version": 2
   },
   "file_extension": ".py",
   "mimetype": "text/x-python",
   "name": "python",
   "nbconvert_exporter": "python",
   "pygments_lexer": "ipython2",
   "version": "2.7.6"
  }
 },
 "nbformat": 4,
 "nbformat_minor": 0
}